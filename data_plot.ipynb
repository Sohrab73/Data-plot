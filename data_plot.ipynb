{
  "nbformat": 4,
  "nbformat_minor": 0,
  "metadata": {
    "colab": {
      "name": "data plot.ipynb",
      "provenance": []
    },
    "kernelspec": {
      "name": "python3",
      "display_name": "Python 3"
    },
    "language_info": {
      "name": "python"
    }
  },
  "cells": [
    {
      "cell_type": "code",
      "execution_count": 7,
      "metadata": {
        "colab": {
          "base_uri": "https://localhost:8080/",
          "height": 265
        },
        "id": "MWIUoBEGSRFE",
        "outputId": "166cfb4d-8db1-46a6-9afc-bdc6e2e01c80"
      },
      "outputs": [
        {
          "output_type": "display_data",
          "data": {
            "text/plain": [
              "<Figure size 432x288 with 1 Axes>"
            ],
            "image/png": "[encoded data removed]"
          },
          "metadata": {
            "needs_background": "light"
          }
        }
      ],
      "source": [
        "import pandas as pd\n",
        "import numpy as np\n",
        "import matplotlib.pyplot as plt \n",
        "fi=pd.read_csv(\"bookprice.txt\",header=None) #use file name\n",
        "num=fi.to_numpy()\n",
        "x_axis=num[:,0]\n",
        "y_axis=num[:,1]\n",
        "plt.scatter(x_axis,y_axis)\n",
        "plt.show()\n"
      ]
    }
  ]
}